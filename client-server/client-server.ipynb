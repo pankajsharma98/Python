{
 "cells": [
  {
   "cell_type": "code",
   "execution_count": 2,
   "metadata": {},
   "outputs": [],
   "source": [
    "import requests\n",
    "import socket"
   ]
  },
  {
   "cell_type": "code",
   "execution_count": 3,
   "metadata": {},
   "outputs": [
    {
     "name": "stdout",
     "output_type": "stream",
     "text": [
      "GET / HTTP/1.1\r\n",
      "Host: 192.168.43.95:12345\r\n",
      "Connection: keep-alive\r\n",
      "Cache-Control: max-age=0\r\n",
      "Upgrade-Insecure-Requests: 1\r\n",
      "User-Agent: Mozilla/5.0 (Linux; Android 7.1.2; Redmi 4A Build/N2G47H) AppleWebKit/537.36 (KHTML, like Gecko) Chrome/66.0.3359.158 Mobile Safari/537.36\r\n",
      "Accept: text/html,application/xhtml+xml,application/xml;q=0.9,image/webp,image/apng,*/*;q=0.8\r\n",
      "Accept-Encoding: gzip, deflate\r\n",
      "Accept-Language: en-GB,en-US;q=0.9,en;q=0.8,hi;q=0.7\r\n",
      "\r\n",
      "\n"
     ]
    }
   ],
   "source": [
    "server=socket.socket()\n",
    "server.bind((\"192.168.43.95\",12345))\n",
    "server.listen()\n",
    "client,addr=server.accept()\n",
    "data=client.recv(1024).decode()\n",
    "print(data)\n",
    "data=\"\"\"HTTP/1.1 200 ok\n",
    "Content-Type:text/html\n",
    "\n",
    "<h1 style='color:red'>hello world</h1>\n",
    "<h2>hello world</h2>\n",
    "\"\"\"\n",
    "client.send(data.encode())\n",
    "client.close()\n",
    "server.close()"
   ]
  },
  {
   "cell_type": "code",
   "execution_count": null,
   "metadata": {},
   "outputs": [
    {
     "name": "stdout",
     "output_type": "stream",
     "text": [
      "GET / HTTP/1.1\r\n",
      "Host: 192.168.43.95:12345\r\n",
      "Connection: keep-alive\r\n",
      "Upgrade-Insecure-Requests: 1\r\n",
      "User-Agent: Mozilla/5.0 (Linux; Android 7.1.2; Redmi 4A Build/N2G47H) AppleWebKit/537.36 (KHTML, like Gecko) Chrome/66.0.3359.158 Mobile Safari/537.36\r\n",
      "Accept: text/html,application/xhtml+xml,application/xml;q=0.9,image/webp,image/apng,*/*;q=0.8\r\n",
      "Accept-Encoding: gzip, deflate\r\n",
      "Accept-Language: en-GB,en-US;q=0.9,en;q=0.8,hi;q=0.7\r\n",
      "\r\n",
      "\n",
      "GET /favicon.ico HTTP/1.1\r\n",
      "Host: 192.168.43.95:12345\r\n",
      "Connection: keep-alive\r\n",
      "User-Agent: Mozilla/5.0 (Linux; Android 7.1.2; Redmi 4A Build/N2G47H) AppleWebKit/537.36 (KHTML, like Gecko) Chrome/66.0.3359.158 Mobile Safari/537.36\r\n",
      "Accept: image/webp,image/apng,image/*,*/*;q=0.8\r\n",
      "Referer: http://192.168.43.95:12345/\r\n",
      "Accept-Encoding: gzip, deflate\r\n",
      "Accept-Language: en-GB,en-US;q=0.9,en;q=0.8,hi;q=0.7\r\n",
      "\r\n",
      "\n"
     ]
    }
   ],
   "source": [
    "server=socket.socket()\n",
    "server.bind((\"192.168.43.95\",12345))\n",
    "server.listen()\n",
    "while True:\n",
    "    client,addr=server.accept()\n",
    "    req=client.recv(1024).decode()\n",
    "    print(req)\n",
    "    data={'name':'pankaj','age':20,'college':'arya','city':'jaipur'}\n",
    "    import json\n",
    "    mydata=json.dumps(data)\n",
    "    resp = f\"\"\"HTTP/1.1 200 ok\n",
    "    Content-Type:application/json\n",
    "    Name:anything\n",
    "\n",
    "    {mydata}\"\"\".encode()\n",
    "    client.send(resp)\n",
    "    client.close()\n",
    "    #server.close()"
   ]
  },
  {
   "cell_type": "code",
   "execution_count": null,
   "metadata": {},
   "outputs": [],
   "source": [
    "import socket\n",
    "import requests\n",
    "import psutil\n",
    "\n",
    "server=socket.socket()\n",
    "server.bind((\"192.168.43.95\",12346))\n",
    "server.listen()\n",
    "while True:\n",
    "    client,addr=server.accept()\n",
    "    req=client.recv(1024).decode()\n",
    "    data={'percent':psutil.cpu_percent()}\n",
    "    import json\n",
    "    mydata=json.dumps(data)\n",
    "    resp = f\"\"\"HTTP/1.1 200 ok\n",
    "    Content-Type:application/json\n",
    "    Name:anything\n",
    "\n",
    "    {mydata}\"\"\".encode()\n",
    "    client.send(resp)\n",
    "    client.close()"
   ]
  }
 ],
 "metadata": {
  "kernelspec": {
   "display_name": "Python 3",
   "language": "python",
   "name": "python3"
  },
  "language_info": {
   "codemirror_mode": {
    "name": "ipython",
    "version": 3
   },
   "file_extension": ".py",
   "mimetype": "text/x-python",
   "name": "python",
   "nbconvert_exporter": "python",
   "pygments_lexer": "ipython3",
   "version": "3.6.4"
  }
 },
 "nbformat": 4,
 "nbformat_minor": 2
}
