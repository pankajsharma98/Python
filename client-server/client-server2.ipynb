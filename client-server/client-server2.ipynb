{
 "cells": [
  {
   "cell_type": "code",
   "execution_count": 22,
   "metadata": {},
   "outputs": [],
   "source": [
    "from requests import get"
   ]
  },
  {
   "cell_type": "code",
   "execution_count": 23,
   "metadata": {},
   "outputs": [],
   "source": [
    "url=\"http://localhost:12345\""
   ]
  },
  {
   "cell_type": "code",
   "execution_count": 24,
   "metadata": {},
   "outputs": [],
   "source": [
    "data=get(url)"
   ]
  },
  {
   "cell_type": "code",
   "execution_count": 25,
   "metadata": {},
   "outputs": [
    {
     "data": {
      "text/plain": [
       "200"
      ]
     },
     "execution_count": 25,
     "metadata": {},
     "output_type": "execute_result"
    }
   ],
   "source": [
    "data.status_code"
   ]
  },
  {
   "cell_type": "code",
   "execution_count": 26,
   "metadata": {},
   "outputs": [
    {
     "data": {
      "text/plain": [
       "b'    {\"name\": \"pankaj\", \"age\": 20, \"college\": \"arya\", \"city\": \"jaipur\"}'"
      ]
     },
     "execution_count": 26,
     "metadata": {},
     "output_type": "execute_result"
    }
   ],
   "source": [
    "data.content"
   ]
  },
  {
   "cell_type": "code",
   "execution_count": 27,
   "metadata": {},
   "outputs": [
    {
     "data": {
      "text/plain": [
       "{'age': 20, 'city': 'jaipur', 'college': 'arya', 'name': 'pankaj'}"
      ]
     },
     "execution_count": 27,
     "metadata": {},
     "output_type": "execute_result"
    }
   ],
   "source": [
    "data.json()"
   ]
  },
  {
   "cell_type": "code",
   "execution_count": 1,
   "metadata": {},
   "outputs": [
    {
     "name": "stdout",
     "output_type": "stream",
     "text": [
      "{\n",
      "     \"percent\": 1.7\n",
      "}\n",
      "{\n",
      "     \"percent\": 3.5\n",
      "}\n",
      "{\n",
      "     \"percent\": 3.5\n",
      "}\n",
      "{\n",
      "     \"percent\": 1.1\n",
      "}\n",
      "{\n",
      "     \"percent\": 2.9\n",
      "}\n",
      "{\n",
      "     \"percent\": 2.1\n",
      "}\n",
      "{\n",
      "     \"percent\": 1.5\n",
      "}\n",
      "{\n",
      "     \"percent\": 3.3\n",
      "}\n",
      "{\n",
      "     \"percent\": 1.0\n",
      "}\n",
      "{\n",
      "     \"percent\": 3.3\n",
      "}\n"
     ]
    }
   ],
   "source": [
    "import time\n",
    "import json\n",
    "from requests import get\n",
    "\n",
    "url=\"http://localhost:12346/\"\n",
    "data=get(url)\n",
    "data.status_code\n",
    "for var in range(10):\n",
    "    time.sleep(1)\n",
    "    data=get(url,timeout=10)\n",
    "    print(json.dumps(data.json(),indent=5),flush=True)"
   ]
  }
 ],
 "metadata": {
  "kernelspec": {
   "display_name": "Python 3",
   "language": "python",
   "name": "python3"
  },
  "language_info": {
   "codemirror_mode": {
    "name": "ipython",
    "version": 3
   },
   "file_extension": ".py",
   "mimetype": "text/x-python",
   "name": "python",
   "nbconvert_exporter": "python",
   "pygments_lexer": "ipython3",
   "version": "3.6.4"
  }
 },
 "nbformat": 4,
 "nbformat_minor": 2
}
